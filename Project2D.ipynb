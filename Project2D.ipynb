{
 "cells": [
  {
   "cell_type": "markdown",
   "id": "adf4c270",
   "metadata": {},
   "source": [
    "# Mikayla Clarke's Project 2D"
   ]
  },
  {
   "cell_type": "markdown",
   "id": "4d22d107",
   "metadata": {},
   "source": [
    "# Introduction\n",
    "### Scientific Question\n",
    "Why does the hemagglutinin (HA) in the influenza A H1N1, and H3N2 and the influenza B Yamagata and Victoria viruses affect the protection provided from the influenza vaccine?\n",
    "### Background\n",
    "Influenza vaccine contains strains from influenza A H1N1, influenza A H3N2, influenza B Yamagata, and influenza B Victoria. All of the influenza viruses are primarily composed of two proteins; hemagglutinin (HA) and neuraminidase (NA). HA and NA proteins act as antigens which are on the surface of the virus and are recognized by the immune system. They triger an immune response. The influenza vaccine primarily targets the HA protein of the virus, because that has more variability among the different strains, whereas the NA tends to be much more similar across strains. \n",
    "The influenza vaccine provides the most amount of protection against influenza A H1N1, influenza B Yamagata, and influenza B Victoria. The influenza vaccine provides the least amount of protection against influenza A H3N2.\n",
    " https://www.cdc.gov/flu/about/viruses/types.htm\n",
    "### Scientific Hypothesis\n",
    "Since the influenza vaccine incorporates all four of the virus strains, it is known that the vaccine provides the least amount of protection against influenza A H3N2 than the rest. Based on this previous research, if humans are exposed to influenza a H1N1, influenza a H3N2, influenza B Yamagata, and influenza B Victoria, then the influenza vaccine will provide the least protection against H3N2 because the hemagglutinin (HA) of the H3N2 virus will vary the most from H1N1, Yamagata and Victoria strains.\n",
    "### Description of what was done and how data was downloaded\n",
    "Seqeunces for multiple alignment were downloaded from the NCBI nucleotide as one large fasta file. This was done by first finding all of my hemagglutinin sequences of interest; Influenza A H1N1 HA, Influenza A H3N2 HA, Influenza B Yamagata HA, and Influenza B Victoria HA. I found all of them with the same sequence length and their ascension numbers are; AB451167.1, KY888464.1, KP461123.1, and KP459386.1 respectively. I put all of these into the NCBI nucleotide search bar and was able to load all four sequences on the same page. I downloaded this as one fasta file to be used for the mutiple sequence alignment.\n",
    "\n",
    "For the structural bioinformatics, I found all of the 3D protein structures for all four strains of interest in the PDB database; Influenza A H1N1 HA, Influenza A H3N2 HA, Influenza B Yamagata HA, and Influenza B Victoria HA. I obtained their ascension numbers; 3LZG, 2YP7, 7KQI, and 7KQH respectively. I downloaded the pdb files of each to use later for measurments. These ascension numbers were used with nglview to produce the 3D structures within the notebook.\n",
    "\n",
    "For 3D protein measurements, the pdb files from all of the 3D protein structures above were downloaded from the odb database as stated above, and then loaded into the libary of my jupyter notebook. Using PDBParser, I uploaded the files with their ascension numbers in order to measure the 3D protein structures. I measured the distance between the alpha carbons for each.\n",
    "\n",
    "Lastly, for the phylogenetic tree, I used the fasta file that I downloaded from the NCBI nucleotide database. First, I aligned the sequences and then calculated the identity distance between them. The results of this calculation was then used to create a phylogenetic tree between the four strains.\n",
    "\n",
    "\n",
    "Note: Not all strains were from the same year or location from any database."
   ]
  },
  {
   "cell_type": "markdown",
   "id": "595de295",
   "metadata": {},
   "source": [
    "# Loading in Packages\n",
    "### Bio Basically, Biopython is a collection of python modules that provide functions to deal with DNA, RNA & protein sequence operations such as reverse complementing of a DNA string, finding motifs in protein sequences, etc.\n",
    "\n",
    "Bio, otherwise known as Biopython is a collection of python functions used to deal with DNA, RNA and protein sequences. There are several different packages within Bio used for various reasons. For example, AlignIO is used for alignments, such as multiple sequence alignment. PDB is used for structural bioinformatics and protein measurements. Phylo is used for phylogenetic trees. For more information on Bio, see: https://biopython.org/wiki/Documentation.\n",
    "### NGL Viewer \n",
    "NGL viewer is a collection of tools for molecular graphics. It is used to display molecules such as DNA, RNA, or proteins. NGLview is used in jupyter or python notebooks to produce 3D structures of proteins or DNA/RNA of choice. It uses the ascension code or pdb file of interest to view the 3D structure. To learn more about NGL viewer and see examples, see: https://ambermd.org/tutorials/analysis/tutorial_notebooks/nglview_notebook/index.html\n"
   ]
  },
  {
   "cell_type": "markdown",
   "id": "ac5c98a6",
   "metadata": {},
   "source": [
    "# Performing Bioinformatics Analysis "
   ]
  },
  {
   "cell_type": "markdown",
   "id": "f49ebca5",
   "metadata": {},
   "source": [
    "### Multiple Sequence Alignment\n",
    "Multiple sequence alignment compares three or more protein or nucleic acid sequence of similar length. From the alignment, we can infer the homology and evolutionary relationships between the sequences of study. In the multiple sequence alignment, we will be using the fasta file downloaded from the NCBI nucleotide database. It will create an alignment of all of the sequences in the alignment, so we can see how the sequences vary.\n",
    "\n",
    "Note: AB451167.1 (influenza A H1N1), KY888464.1 (influenza A H3N2), KP461123.1 (influenza B Yamagata), and KP459386.1 (influenza B Victoria)"
   ]
  },
  {
   "cell_type": "code",
   "execution_count": 1,
   "id": "c4d0f883",
   "metadata": {},
   "outputs": [
    {
     "name": "stdout",
     "output_type": "stream",
     "text": [
      "Alignment with 4 rows and 978 columns\n",
      "CTGGTTTTCGCTCAAAAACTTCCTGGAAATGACAATAGCACGGC...AAT KY888464.1\n",
      "GACACAATATGTATAGGCTACCATGCTAACAACTCGACCGACAC...AGA AB451167.1\n",
      "GATCGAATCTGCACTGGAATAACATCTTCAAACTCACCTCATGT...ACA KP461123.1\n",
      "GATCGAATCTGCACTGGAATAACATCCTCAAACTCACCTCATGT...ACA KP459386.1\n",
      "KY888464.1 978\n",
      "AB451167.1 978\n",
      "KP461123.1 978\n",
      "KP459386.1 978\n"
     ]
    }
   ],
   "source": [
    "# Import AlignIO package from Bio for the alignment of the fasta file\n",
    "from Bio import AlignIO\n",
    "# load in fasta file of all four virus sequences for alignment\n",
    "align = AlignIO.read(\"Total.fasta\", \"fasta\")\n",
    "# print alignment\n",
    "print(align)\n",
    "# find length of alignment\n",
    "len(align)\n",
    "# for all of the strains in the alignment, we will print out the length of the sequence along with their ascension number.\n",
    "for record in align:\n",
    "    print(\"%s %i\" % (record.id, len(record)))"
   ]
  },
  {
   "cell_type": "markdown",
   "id": "e0c7a7f7",
   "metadata": {},
   "source": [
    "### Structural Bioinformatics\n",
    "Structural bioinformatics allows for the visualization of the 3D protein structure of proteins of interest. These structures can be compared to look at differences between the protein structures of the hemagglutinin in all four strains. Using nglview, we can visualize the 3D protein structures of proteins found on the PDB database. The ascension numbers are used to produce the image.\n",
    "\n",
    "Note: 3LZG (influenza A H1N1), 2YP7 (influenza A H3N2), 7KQI (influenza B Yamagata), and 7KQH (influenza B Victoria)"
   ]
  },
  {
   "cell_type": "code",
   "execution_count": 2,
   "id": "ae13dfaf",
   "metadata": {},
   "outputs": [
    {
     "name": "stdout",
     "output_type": "stream",
     "text": [
      "Collecting package metadata (current_repodata.json): done\n",
      "Solving environment: done\n",
      "\n",
      "# All requested packages already installed.\n",
      "\n",
      "\n",
      "Note: you may need to restart the kernel to use updated packages.\n"
     ]
    }
   ],
   "source": [
    "conda install -c conda-forge nglview"
   ]
  },
  {
   "cell_type": "code",
   "execution_count": 3,
   "id": "58a536ca",
   "metadata": {},
   "outputs": [
    {
     "data": {
      "application/vnd.jupyter.widget-view+json": {
       "model_id": "a21587e986be4a7e81fba1a5f8d7669f",
       "version_major": 2,
       "version_minor": 0
      },
      "text/plain": []
     },
     "metadata": {},
     "output_type": "display_data"
    }
   ],
   "source": [
    "# import nglview package\n",
    "import nglview as nv"
   ]
  },
  {
   "cell_type": "code",
   "execution_count": 4,
   "id": "216ef0d4",
   "metadata": {},
   "outputs": [
    {
     "data": {
      "application/vnd.jupyter.widget-view+json": {
       "model_id": "069a67bfc7dd43de9f480ffd58d61502",
       "version_major": 2,
       "version_minor": 0
      },
      "text/plain": [
       "NGLWidget()"
      ]
     },
     "metadata": {},
     "output_type": "display_data"
    }
   ],
   "source": [
    "# Influenza A H1N1\n",
    "view = nv.show_pdbid(\"3LZG\")\n",
    "view"
   ]
  },
  {
   "cell_type": "code",
   "execution_count": 5,
   "id": "4acb34c8",
   "metadata": {},
   "outputs": [
    {
     "data": {
      "application/vnd.jupyter.widget-view+json": {
       "model_id": "27f7b3c5d0bb47be83973e0ae056b550",
       "version_major": 2,
       "version_minor": 0
      },
      "text/plain": [
       "NGLWidget()"
      ]
     },
     "metadata": {},
     "output_type": "display_data"
    }
   ],
   "source": [
    "# Influenza A H3N2\n",
    "view = nv.show_pdbid(\"2YP7\")\n",
    "view"
   ]
  },
  {
   "cell_type": "code",
   "execution_count": 6,
   "id": "c1ce6192",
   "metadata": {},
   "outputs": [
    {
     "data": {
      "application/vnd.jupyter.widget-view+json": {
       "model_id": "886ac311140743888f5258e9171d0ec0",
       "version_major": 2,
       "version_minor": 0
      },
      "text/plain": [
       "NGLWidget()"
      ]
     },
     "metadata": {},
     "output_type": "display_data"
    }
   ],
   "source": [
    "# Influenza B Yamagata\n",
    "view = nv.show_pdbid(\"7KQI\")\n",
    "view"
   ]
  },
  {
   "cell_type": "code",
   "execution_count": 7,
   "id": "1415c9b0",
   "metadata": {},
   "outputs": [
    {
     "data": {
      "application/vnd.jupyter.widget-view+json": {
       "model_id": "5df44d6f18ea44f6a7b08d8a86f08372",
       "version_major": 2,
       "version_minor": 0
      },
      "text/plain": [
       "NGLWidget()"
      ]
     },
     "metadata": {},
     "output_type": "display_data"
    }
   ],
   "source": [
    "# Influenza B Victoria\n",
    "view = nv.show_pdbid(\"7KQH\")\n",
    "view"
   ]
  },
  {
   "cell_type": "markdown",
   "id": "fdf4bd98",
   "metadata": {},
   "source": [
    "# Plotting the Results"
   ]
  },
  {
   "cell_type": "markdown",
   "id": "ee73c323",
   "metadata": {},
   "source": [
    "### 3D protein measurements\n",
    "3D protein measurements is used for measuring specific measurements of a 3D protein structure. Using PDBParser, we can perform measurements on 3D protein structures. In this case, we will use the pdb files downloaded from the PDB database along with their ascension codes to get the 3D protein structure. Once we have this, we will calculate the distance between the alpha carbons of each strain."
   ]
  },
  {
   "cell_type": "code",
   "execution_count": 8,
   "id": "7b8f2ef0",
   "metadata": {},
   "outputs": [],
   "source": [
    "# import PDBParser from Bio.PDB.PDBParser\n",
    "from Bio.PDB.PDBParser import PDBParser"
   ]
  },
  {
   "cell_type": "code",
   "execution_count": 9,
   "id": "5cdb5f07",
   "metadata": {},
   "outputs": [
    {
     "name": "stdout",
     "output_type": "stream",
     "text": [
      "3.811898\n"
     ]
    },
    {
     "name": "stderr",
     "output_type": "stream",
     "text": [
      "/Users/brandon/opt/anaconda3/lib/python3.9/site-packages/Bio/PDB/StructureBuilder.py:89: PDBConstructionWarning: WARNING: Chain E is discontinuous at line 48331.\n",
      "  warnings.warn(\n",
      "/Users/brandon/opt/anaconda3/lib/python3.9/site-packages/Bio/PDB/StructureBuilder.py:89: PDBConstructionWarning: WARNING: Chain K is discontinuous at line 48359.\n",
      "  warnings.warn(\n",
      "/Users/brandon/opt/anaconda3/lib/python3.9/site-packages/Bio/PDB/StructureBuilder.py:89: PDBConstructionWarning: WARNING: Chain A is discontinuous at line 48387.\n",
      "  warnings.warn(\n",
      "/Users/brandon/opt/anaconda3/lib/python3.9/site-packages/Bio/PDB/StructureBuilder.py:89: PDBConstructionWarning: WARNING: Chain B is discontinuous at line 48456.\n",
      "  warnings.warn(\n",
      "/Users/brandon/opt/anaconda3/lib/python3.9/site-packages/Bio/PDB/StructureBuilder.py:89: PDBConstructionWarning: WARNING: Chain C is discontinuous at line 48488.\n",
      "  warnings.warn(\n",
      "/Users/brandon/opt/anaconda3/lib/python3.9/site-packages/Bio/PDB/StructureBuilder.py:89: PDBConstructionWarning: WARNING: Chain D is discontinuous at line 48542.\n",
      "  warnings.warn(\n",
      "/Users/brandon/opt/anaconda3/lib/python3.9/site-packages/Bio/PDB/StructureBuilder.py:89: PDBConstructionWarning: WARNING: Chain E is discontinuous at line 48565.\n",
      "  warnings.warn(\n",
      "/Users/brandon/opt/anaconda3/lib/python3.9/site-packages/Bio/PDB/StructureBuilder.py:89: PDBConstructionWarning: WARNING: Chain F is discontinuous at line 48625.\n",
      "  warnings.warn(\n",
      "/Users/brandon/opt/anaconda3/lib/python3.9/site-packages/Bio/PDB/StructureBuilder.py:89: PDBConstructionWarning: WARNING: Chain G is discontinuous at line 48648.\n",
      "  warnings.warn(\n",
      "/Users/brandon/opt/anaconda3/lib/python3.9/site-packages/Bio/PDB/StructureBuilder.py:89: PDBConstructionWarning: WARNING: Chain H is discontinuous at line 48707.\n",
      "  warnings.warn(\n",
      "/Users/brandon/opt/anaconda3/lib/python3.9/site-packages/Bio/PDB/StructureBuilder.py:89: PDBConstructionWarning: WARNING: Chain I is discontinuous at line 48731.\n",
      "  warnings.warn(\n",
      "/Users/brandon/opt/anaconda3/lib/python3.9/site-packages/Bio/PDB/StructureBuilder.py:89: PDBConstructionWarning: WARNING: Chain J is discontinuous at line 48770.\n",
      "  warnings.warn(\n",
      "/Users/brandon/opt/anaconda3/lib/python3.9/site-packages/Bio/PDB/StructureBuilder.py:89: PDBConstructionWarning: WARNING: Chain K is discontinuous at line 48790.\n",
      "  warnings.warn(\n",
      "/Users/brandon/opt/anaconda3/lib/python3.9/site-packages/Bio/PDB/StructureBuilder.py:89: PDBConstructionWarning: WARNING: Chain L is discontinuous at line 48824.\n",
      "  warnings.warn(\n"
     ]
    }
   ],
   "source": [
    "# Influenza A H1N1\n",
    "parser = PDBParser()\n",
    "# get protein structure of H1N1\n",
    "structure_H1N1 = parser.get_structure(\"3LZG\", \"3lzg.pdb\")\n",
    "# get the residues from the protein structure of H1N1\n",
    "residues_H1N1 = [r for r in structure_H1N1.get_residues()]\n",
    "# calculate the distance between the alpha carbons\n",
    "ca1_H1N1 = residues_H1N1[0][\"CA\"]\n",
    "ca2_H1N1 = residues_H1N1[1][\"CA\"]\n",
    "distance_H1N1 = ca1_H1N1 - ca2_H1N1\n",
    "# print the distance between the alpha carbons\n",
    "print(distance_H1N1)"
   ]
  },
  {
   "cell_type": "code",
   "execution_count": 10,
   "id": "9e2c1ea7",
   "metadata": {},
   "outputs": [
    {
     "name": "stdout",
     "output_type": "stream",
     "text": [
      "3.8561075\n"
     ]
    },
    {
     "name": "stderr",
     "output_type": "stream",
     "text": [
      "/Users/brandon/opt/anaconda3/lib/python3.9/site-packages/Bio/PDB/StructureBuilder.py:89: PDBConstructionWarning: WARNING: Chain A is discontinuous at line 8574.\n",
      "  warnings.warn(\n"
     ]
    }
   ],
   "source": [
    "# Influenza A H3N2\n",
    "parser = PDBParser()\n",
    "# get protein structure of H3N2\n",
    "structure_H3N2 = parser.get_structure(\"2YP7\", \"2yp7.pdb\")\n",
    "# get the residues from the protein structure of H3N2\n",
    "residues_H3N2 = [r for r in structure_H3N2.get_residues()]\n",
    "# calculate the distance between the alpha carbons\n",
    "ca1_H3N2 = residues_H3N2[0][\"CA\"]\n",
    "ca2_H3N2 = residues_H3N2[1][\"CA\"]\n",
    "distance_H3N2 = ca1_H3N2 - ca2_H3N2\n",
    "# print the distance between the alpha carbons\n",
    "print(distance_H3N2)"
   ]
  },
  {
   "cell_type": "code",
   "execution_count": 11,
   "id": "7ccd6885",
   "metadata": {},
   "outputs": [
    {
     "name": "stdout",
     "output_type": "stream",
     "text": [
      "3.8054087\n"
     ]
    }
   ],
   "source": [
    "# Influenza B Yamagata\n",
    "parser = PDBParser()\n",
    "# get protein structure of Yamagata\n",
    "structure_Yamagata = parser.get_structure(\"7KQI\", \"7kqi.pdb\")\n",
    "# get the residues from the protein structure of Yamagata\n",
    "residues_Yamagata = [r for r in structure_Yamagata.get_residues()]\n",
    "# calculate the distance between the alpha carbons\n",
    "ca1_Yamagata = residues_Yamagata[0][\"CA\"]\n",
    "ca2_Yamagata = residues_Yamagata[1][\"CA\"]\n",
    "distance_Yamagata = ca1_Yamagata - ca2_Yamagata\n",
    "# print the distance between the alpha carbons\n",
    "print(distance_Yamagata)"
   ]
  },
  {
   "cell_type": "code",
   "execution_count": 12,
   "id": "c90391d1",
   "metadata": {},
   "outputs": [
    {
     "name": "stdout",
     "output_type": "stream",
     "text": [
      "3.7973094\n"
     ]
    }
   ],
   "source": [
    "# Influenza B Victoria\n",
    "parser = PDBParser()\n",
    "# get protein structure of Victoria\n",
    "structure_Victoria = parser.get_structure(\"7KQH\", \"7kqh.pdb\")\n",
    "# get the residues from the protein structure of Victoria\n",
    "residues_Victoria = [r for r in structure_Victoria.get_residues()]\n",
    "# calculate the distance between the alpha carbons\n",
    "ca1_Victoria = residues_Victoria[0][\"CA\"]\n",
    "ca2_Victoria = residues_Victoria[1][\"CA\"]\n",
    "distance_Victoria = ca1_Victoria - ca2_Victoria\n",
    "# print the distance between the alpha carbons\n",
    "print(distance_Victoria)"
   ]
  },
  {
   "cell_type": "markdown",
   "id": "52a7bb15",
   "metadata": {},
   "source": [
    "### Phylogenetic clustering\n",
    "Phylogenetic trees are graphical representations of the evolutionary relationships between sequences or species. We will be using Bio to create a phylogenetic tree of the sequences. Using the fasta file downloaded from the NCBI nucleotide database, we will first align the file. Once we have the alignment, we will calculate the identity distance between the aligned sequences. Using the distances, a phylogenetic tree will be created show casing the evolutionary relationship between the four sequences.\n",
    "\n",
    "Note: AB451167.1 (influenza A H1N1), KY888464.1 (influenza A H3N2), KP461123.1 (influenza B Yamagata), and KP459386.1 (influenza B Victoria)"
   ]
  },
  {
   "cell_type": "code",
   "execution_count": 15,
   "id": "95269366",
   "metadata": {},
   "outputs": [],
   "source": [
    "# import packages from Bio for the creation of the phylogenetic tree\n",
    "import Bio\n",
    "from Bio import Phylo, AlignIO\n",
    "from Bio.Phylo.TreeConstruction import DistanceCalculator, DistanceTreeConstructor"
   ]
  },
  {
   "cell_type": "code",
   "execution_count": 16,
   "id": "d0219c04",
   "metadata": {},
   "outputs": [
    {
     "name": "stdout",
     "output_type": "stream",
     "text": [
      "Alignment with 4 rows and 978 columns\n",
      "CTGGTTTTCGCTCAAAAACTTCCTGGAAATGACAATAGCACGGC...AAT KY888464.1\n",
      "GACACAATATGTATAGGCTACCATGCTAACAACTCGACCGACAC...AGA AB451167.1\n",
      "GATCGAATCTGCACTGGAATAACATCTTCAAACTCACCTCATGT...ACA KP461123.1\n",
      "GATCGAATCTGCACTGGAATAACATCCTCAAACTCACCTCATGT...ACA KP459386.1\n",
      "KY888464.1\t0\n",
      "AB451167.1\t0.7413087934560327\t0\n",
      "KP461123.1\t0.7229038854805726\t0.7198364008179959\t0\n",
      "KP459386.1\t0.7239263803680982\t0.7229038854805726\t0.004089979550102263\t0\n",
      "\tKY888464.1\tAB451167.1\tKP461123.1\tKP459386.1\n"
     ]
    },
    {
     "data": {
      "image/png": "[encoded data removed]",
      "text/plain": [
       "<Figure size 432x288 with 1 Axes>"
      ]
     },
     "metadata": {
      "needs_background": "light"
     },
     "output_type": "display_data"
    }
   ],
   "source": [
    "#read and align query sequences from the fasta file and name the alignment result as \"align\"\n",
    "align = AlignIO.read(\"Total.fasta\", \"fasta\")\n",
    "\n",
    "#print out the alignment result\n",
    "print(align)\n",
    "\n",
    "#calculate the distance matrix using DistanceCalculator and name as \"distMatrix\"\n",
    "calculator = DistanceCalculator('identity')\n",
    "distMatrix = calculator.get_distance(align)\n",
    "\n",
    "#print out distance matrix result\n",
    "print(distMatrix)\n",
    "\n",
    "#create a DistanceTreeConstructor object\n",
    "constructor = DistanceTreeConstructor()\n",
    "\n",
    "#Construct the phylogenetic tree using UPGMA algorithm\n",
    "Tree = constructor.upgma(distMatrix)\n",
    "\n",
    "#Draw the phylogenetic tree with phylo.draw() function\n",
    "Phylo.draw(Tree)"
   ]
  },
  {
   "cell_type": "markdown",
   "id": "2c8f772f",
   "metadata": {},
   "source": [
    "# Analysis of the Data\n",
    "Results from multiple sequence alignment: From the multiple sequence alignment, we can see all four sequences compared with one another. From this, we can see that the influenza A H3N2 sequences differs the most from all of the other sequences.\n",
    "\n",
    "Results from structural bioinformatics: From the structural bioinformatics, we can see that all of the structures look different from each other. However, the influenza A H3N2 structure looks the most different from the other 3. It has the most amount of color and variation.\n",
    "\n",
    "Results from 3D protein measurements: From the 3D protein measurements of the alpha carbons we know that influenza A H1N1 had a measurement of 3.811898, influenza A H3N2 had a measurement of 3.8561075, influenza B Yamagata had a measurement of 3.8054087, and influenza B Victoria had a measurement of 3.7973094. From this, we can see that influenza A H3N2 had the largest protein measurement out of all four, and the other three had very similar measurements.\n",
    "\n",
    "Results from phylogentic tree: From the phylogenetic tree, we can see that influenza B Yamagata and Victoria are loacted close together, indicating little evolution. Influenza A H1N1 is located on the next brand indicating more evolution from them. Influenza A H3N2 is located on the first branch, indicating that it is the most different from the others.\n",
    "\n",
    "The data obtained supports the hypothesis. The influenza A H3N2 receives the least amount of protection from the influenza vaccine because the hemagglutinin (HA) of the H3N2 virus varies the most from the other three strains. Influenza A H3N2 HA seqeunce, 3D structure, and 3D protein measurements all varied the most, as shown by the multiple sequence alignment, structural bioinformatics, 3D protein measurements, and phylogenetic tree."
   ]
  },
  {
   "cell_type": "code",
   "execution_count": null,
   "id": "c788cbf6",
   "metadata": {},
   "outputs": [],
   "source": []
  }
 ],
 "metadata": {
  "kernelspec": {
   "display_name": "Python 3 (ipykernel)",
   "language": "python",
   "name": "python3"
  },
  "language_info": {
   "codemirror_mode": {
    "name": "ipython",
    "version": 3
   },
   "file_extension": ".py",
   "mimetype": "text/x-python",
   "name": "python",
   "nbconvert_exporter": "python",
   "pygments_lexer": "ipython3",
   "version": "3.9.7"
  }
 },
 "nbformat": 4,
 "nbformat_minor": 5
}
